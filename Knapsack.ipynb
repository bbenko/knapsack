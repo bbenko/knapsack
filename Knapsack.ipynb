{
 "cells": [
  {
   "cell_type": "markdown",
   "metadata": {},
   "source": [
    "# Knapsack Problem\n",
    "by Božidar Benko, CTO @ VuMedi.com\n",
    "\n",
    "* imagine you are a thief and you break in a bank vault\n",
    "* there are some items in the vault\n",
    "* each item has a mass and a value on (black) market\n",
    "* you have only one knapsack with limited capacity\n",
    "* if you take more stuff than your knapsack capacity, it will break, you'll loose all items and get shot\n",
    "\n",
    "What is the maximum profit you can get? \n",
    "\n",
    "![Knapsack Problem](https://upload.wikimedia.org/wikipedia/commons/thumb/f/fd/Knapsack.svg/486px-Knapsack.svg.png)\n",
    "From CC BY-SA 2.5, https://commons.wikimedia.org/w/index.php?curid=985491\n",
    "\n",
    "## Definition\n",
    "Given a set of items, each with a mass and a value, determine the number of each item to include in a collection so that the total weight is less than or equal to a given limit and the total value is as large as possible.\n",
    "\n",
    "### Main Variations\n",
    "* 0-1 knapsack problem\n",
    "   * only one item of a kind\n",
    "   * take an item or leave it (no fractions)\n",
    "* bounded knapsack problem (BKP)\n",
    "   * take up to *c* items of each kind\n",
    "* unbounded knapsack problem (UKP)\n",
    "   * no upper bound on items\n",
    "   \n",
    "## 0-1 Knapsack\n",
    "Given a set of *n* items numbered from 0 up to *n-1*, each with a mass *m[i]* and a value *v[i]*, along with a maximum mass capacity *M*,\n",
    "\n",
    "maximize\n",
    "\n",
    "```python\n",
    "V = sum([v[i]*x[i] for i in range(n)])  # total value in knapsack\n",
    "```\n",
    "\n",
    "with\n",
    "```python \n",
    "sum([m[i]*x[i] for i in range(n)]) <= M  # items fit in backpack\n",
    "and\n",
    "all([k in [0, 1] for k in x])  # take (1) or leave (0) item, cannot break it\n",
    "```\n",
    "\n",
    "### Example\n"
   ]
  },
  {
   "cell_type": "code",
   "execution_count": 1,
   "metadata": {
    "collapsed": false
   },
   "outputs": [],
   "source": [
    "M = 7\n",
    "n = 4\n",
    "m = [2, 3, 4, 5]\n",
    "v = [3, 4, 5, 5]\n",
    "# V = ?"
   ]
  },
  {
   "cell_type": "markdown",
   "metadata": {},
   "source": [
    "### Solution:\n",
    "\n",
    "```python\n",
    "V = 9  # v[1] + v[2]\n",
    "\n",
    "m[1] + m[2] <= M  # 7\n",
    "\n",
    "x = [0, 1, 1, 0]  # pick second and third item \n",
    "```\n",
    "\n",
    "#### Simple Greedy Solution?\n",
    "* let's calculate value per kilogram *v[i]/m[i]*\n",
    "* sort in descending order\n",
    "* and pick items from top"
   ]
  },
  {
   "cell_type": "code",
   "execution_count": 2,
   "metadata": {
    "collapsed": false
   },
   "outputs": [
    {
     "data": {
      "text/plain": [
       "[1.5, 1.3333333333333333, 1.25, 1.0]"
      ]
     },
     "execution_count": 2,
     "metadata": {},
     "output_type": "execute_result"
    }
   ],
   "source": [
    "[v[i]/m[i] for i in range(n)]  # it's already sorted in this example"
   ]
  },
  {
   "cell_type": "markdown",
   "metadata": {},
   "source": [
    "If we pick first item (best value per kilogram), then the best we can do is:\n",
    "\n",
    "V = 8\n",
    "\n",
    "Doesn't work!\n",
    "\n",
    "* there is no known algorithm both correct and fast (polynomial-time) on all cases (NP-complete)\n",
    "* there is a pseudo-polynomial time algorithm using dynamic programming\n",
    "\n",
    "#### Recursive Solution\n",
    "* try all (2**n) subsets of items\n",
    "* calculate total mass for each subset\n",
    "* consider only the subsets where total mass is <= M\n",
    "* pick the optimal subset with maximum value\n",
    "\n",
    "#### Optimal Substructure\n",
    "In optimal substructure (subset), every item can be either:\n",
    "* not included\n",
    "* included\n",
    "\n",
    "So, maximum value of n items is the better of:\n",
    "* nth item not included\n",
    "    * maximum of n - 1 items\n",
    "    * M kg available capacity in backpack\n",
    "* nth item included\n",
    "    * value of nth item + maximum of n - 1 items\n",
    "    * M - mass of nth item capacity in backpack\n",
    "\n",
    "If nth item cannot be included (mass greater than capacity), then we have just the first case.\n",
    "\n"
   ]
  },
  {
   "cell_type": "code",
   "execution_count": 3,
   "metadata": {
    "collapsed": false
   },
   "outputs": [
    {
     "data": {
      "text/plain": [
       "9"
      ]
     },
     "execution_count": 3,
     "metadata": {},
     "output_type": "execute_result"
    }
   ],
   "source": [
    "def knapsack_recursive(M, n, m, v):\n",
    "    # print(\" \"*M, M, n)\n",
    "    if n == 0 or M == 0:  # base case\n",
    "        return 0\n",
    "    if m[n-1] > M:  # last item doesn't fit\n",
    "        return knapsack_recursive(M, n-1, m, v)  # not included\n",
    "    else:\n",
    "        return max(\n",
    "            knapsack_recursive(M, n-1, m, v),  # not included\n",
    "            v[n-1] + knapsack_recursive(M - m[n-1], n-1, m, v)  # included\n",
    "        )\n",
    "\n",
    "knapsack_recursive(M, n, m, v)\n"
   ]
  },
  {
   "cell_type": "markdown",
   "metadata": {},
   "source": [
    "Time complexity: O(2**n)\n",
    "\n",
    "Space complexity: O(1)\n",
    "\n",
    "Optimization: overlapping subproblems can be memoized (store the solution for knapsack_recursive(M', n', m, v) in a cache table - reuse it after, instead of recalculating\n",
    "\n",
    "\n",
    "#### Dynamic Programming Solution\n",
    "* solve (smaller) subproblems first (just once)\n",
    "* store the results of subproblems in memory table\n",
    "* use their solutions to solve bigger and bigger subproblems\n",
    "* bottom-up approach\n",
    "\n",
    "Definition:\n",
    "\n",
    "d[i][j] - maximum value that can be attained by\n",
    "    * using first i items (0 <= i <= n)\n",
    "    * with mass less or equal than j  (0 <= j <= M)\n",
    "\n",
    "Recursive formula for d[i][j]\n",
    "\n",
    "```python\n",
    "* d[0][j] = 0  # using zero items\n",
    "* if m[i-1] > j  # item is heavier than current mass limit\n",
    "    d[i][j] = d[i-1][j]\n",
    "* else if m[i-1] <= j\n",
    "    d[i][j] = max(\n",
    "                d[i-1][j],  # don't take\n",
    "                v[i-1] + d[i-1][j-m[i-1]]  # take - gain value + the best of remaining capacity\n",
    "              )\n",
    "```\n",
    "\n",
    "Then the solution is:\n",
    "\n",
    "V = d[n][M]\n"
   ]
  },
  {
   "cell_type": "code",
   "execution_count": 4,
   "metadata": {
    "collapsed": false
   },
   "outputs": [
    {
     "data": {
      "text/html": [
       "<h3>i=1</h3>"
      ],
      "text/plain": [
       "<IPython.core.display.HTML object>"
      ]
     },
     "metadata": {},
     "output_type": "display_data"
    },
    {
     "data": {
      "text/html": [
       "<table><tr><td></td><td></td><td></td><td>0 <= j <= M kg</td></tr><tr><td>i</td><td>mass</td><td>value</td><td>[0, 1, 2, 3, 4, 5, 6, 7]</td></tr><tr><td>0</td><td>-</td><td>-</td><td>[0, 0, 0, 0, 0, 0, 0, 0]</td></tr><tr><td>1</td><td>2kg</td><td>$3</td><td>[0, 0, 3, 3, 3, 3, 3, 3]</td></tr></table>"
      ],
      "text/plain": [
       "[['', '', '', '0 <= j <= M kg'],\n",
       " ['i', 'mass', 'value', [0, 1, 2, 3, 4, 5, 6, 7]],\n",
       " [0, '-', '-', [0, 0, 0, 0, 0, 0, 0, 0]],\n",
       " [1, '2kg', '$3', [0, 0, 3, 3, 3, 3, 3, 3]]]"
      ]
     },
     "metadata": {},
     "output_type": "display_data"
    },
    {
     "data": {
      "text/html": [
       "<hr>"
      ],
      "text/plain": [
       "<IPython.core.display.HTML object>"
      ]
     },
     "metadata": {},
     "output_type": "display_data"
    },
    {
     "data": {
      "text/html": [
       "<h3>i=2</h3>"
      ],
      "text/plain": [
       "<IPython.core.display.HTML object>"
      ]
     },
     "metadata": {},
     "output_type": "display_data"
    },
    {
     "data": {
      "text/html": [
       "<table><tr><td></td><td></td><td></td><td>0 <= j <= M kg</td></tr><tr><td>i</td><td>mass</td><td>value</td><td>[0, 1, 2, 3, 4, 5, 6, 7]</td></tr><tr><td>0</td><td>-</td><td>-</td><td>[0, 0, 0, 0, 0, 0, 0, 0]</td></tr><tr><td>1</td><td>2kg</td><td>$3</td><td>[0, 0, 3, 3, 3, 3, 3, 3]</td></tr><tr><td>2</td><td>3kg</td><td>$4</td><td>[0, 0, 3, 4, 4, 7, 7, 7]</td></tr></table>"
      ],
      "text/plain": [
       "[['', '', '', '0 <= j <= M kg'],\n",
       " ['i', 'mass', 'value', [0, 1, 2, 3, 4, 5, 6, 7]],\n",
       " [0, '-', '-', [0, 0, 0, 0, 0, 0, 0, 0]],\n",
       " [1, '2kg', '$3', [0, 0, 3, 3, 3, 3, 3, 3]],\n",
       " [2, '3kg', '$4', [0, 0, 3, 4, 4, 7, 7, 7]]]"
      ]
     },
     "metadata": {},
     "output_type": "display_data"
    },
    {
     "data": {
      "text/html": [
       "<hr>"
      ],
      "text/plain": [
       "<IPython.core.display.HTML object>"
      ]
     },
     "metadata": {},
     "output_type": "display_data"
    },
    {
     "data": {
      "text/html": [
       "<h3>i=3</h3>"
      ],
      "text/plain": [
       "<IPython.core.display.HTML object>"
      ]
     },
     "metadata": {},
     "output_type": "display_data"
    },
    {
     "data": {
      "text/html": [
       "<table><tr><td></td><td></td><td></td><td>0 <= j <= M kg</td></tr><tr><td>i</td><td>mass</td><td>value</td><td>[0, 1, 2, 3, 4, 5, 6, 7]</td></tr><tr><td>0</td><td>-</td><td>-</td><td>[0, 0, 0, 0, 0, 0, 0, 0]</td></tr><tr><td>1</td><td>2kg</td><td>$3</td><td>[0, 0, 3, 3, 3, 3, 3, 3]</td></tr><tr><td>2</td><td>3kg</td><td>$4</td><td>[0, 0, 3, 4, 4, 7, 7, 7]</td></tr><tr><td>3</td><td>4kg</td><td>$5</td><td>[0, 0, 3, 4, 5, 7, 8, 9]</td></tr></table>"
      ],
      "text/plain": [
       "[['', '', '', '0 <= j <= M kg'],\n",
       " ['i', 'mass', 'value', [0, 1, 2, 3, 4, 5, 6, 7]],\n",
       " [0, '-', '-', [0, 0, 0, 0, 0, 0, 0, 0]],\n",
       " [1, '2kg', '$3', [0, 0, 3, 3, 3, 3, 3, 3]],\n",
       " [2, '3kg', '$4', [0, 0, 3, 4, 4, 7, 7, 7]],\n",
       " [3, '4kg', '$5', [0, 0, 3, 4, 5, 7, 8, 9]]]"
      ]
     },
     "metadata": {},
     "output_type": "display_data"
    },
    {
     "data": {
      "text/html": [
       "<hr>"
      ],
      "text/plain": [
       "<IPython.core.display.HTML object>"
      ]
     },
     "metadata": {},
     "output_type": "display_data"
    },
    {
     "data": {
      "text/html": [
       "<h3>i=4</h3>"
      ],
      "text/plain": [
       "<IPython.core.display.HTML object>"
      ]
     },
     "metadata": {},
     "output_type": "display_data"
    },
    {
     "data": {
      "text/html": [
       "<table><tr><td></td><td></td><td></td><td>0 <= j <= M kg</td></tr><tr><td>i</td><td>mass</td><td>value</td><td>[0, 1, 2, 3, 4, 5, 6, 7]</td></tr><tr><td>0</td><td>-</td><td>-</td><td>[0, 0, 0, 0, 0, 0, 0, 0]</td></tr><tr><td>1</td><td>2kg</td><td>$3</td><td>[0, 0, 3, 3, 3, 3, 3, 3]</td></tr><tr><td>2</td><td>3kg</td><td>$4</td><td>[0, 0, 3, 4, 4, 7, 7, 7]</td></tr><tr><td>3</td><td>4kg</td><td>$5</td><td>[0, 0, 3, 4, 5, 7, 8, 9]</td></tr><tr><td>4</td><td>5kg</td><td>$5</td><td>[0, 0, 3, 4, 5, 7, 8, 9]</td></tr></table>"
      ],
      "text/plain": [
       "[['', '', '', '0 <= j <= M kg'],\n",
       " ['i', 'mass', 'value', [0, 1, 2, 3, 4, 5, 6, 7]],\n",
       " [0, '-', '-', [0, 0, 0, 0, 0, 0, 0, 0]],\n",
       " [1, '2kg', '$3', [0, 0, 3, 3, 3, 3, 3, 3]],\n",
       " [2, '3kg', '$4', [0, 0, 3, 4, 4, 7, 7, 7]],\n",
       " [3, '4kg', '$5', [0, 0, 3, 4, 5, 7, 8, 9]],\n",
       " [4, '5kg', '$5', [0, 0, 3, 4, 5, 7, 8, 9]]]"
      ]
     },
     "metadata": {},
     "output_type": "display_data"
    },
    {
     "data": {
      "text/html": [
       "<hr>"
      ],
      "text/plain": [
       "<IPython.core.display.HTML object>"
      ]
     },
     "metadata": {},
     "output_type": "display_data"
    },
    {
     "data": {
      "text/plain": [
       "9"
      ]
     },
     "execution_count": 4,
     "metadata": {},
     "output_type": "execute_result"
    }
   ],
   "source": [
    "def knapsack(M, n, m, v, debug=False):\n",
    "    d = [[0 for j in range(M+1)] for i in range(n+1)]\n",
    "    \n",
    "    for i in range(1, n+1):  # start considering 1, then 2, ... items; actual index of item is i-1\n",
    "        for j in range(M+1):\n",
    "            if m[i-1] > j:  # if item is heavier than current capacity\n",
    "                d[i][j] = d[i-1][j]  # take the best value of previous choices \n",
    "            else:\n",
    "                d[i][j] = max(  # the best value of:\n",
    "                    d[i-1][j],  # don't include item - take previous best\n",
    "                    v[i-1] + d[i-1][j-m[i-1]]  # value of item + best value of previous items with lowered capacity \n",
    "                )\n",
    "        if debug:\n",
    "            from util import print_knapsack_table\n",
    "            print_knapsack_table(d, i, m, v)\n",
    "    return d[n][M]\n",
    "knapsack(M, n, m, v, True)\n"
   ]
  },
  {
   "cell_type": "markdown",
   "metadata": {},
   "source": [
    "Time complexity: O(M*n), pseudo-polynomial time\n",
    "\n",
    "Space complexity: O(M*n)\n",
    "\n",
    "Optimization: we can use 1-dimensional array to store current optimal values - we get O(M) space complexity"
   ]
  },
  {
   "cell_type": "code",
   "execution_count": 5,
   "metadata": {
    "collapsed": false
   },
   "outputs": [
    {
     "name": "stdout",
     "output_type": "stream",
     "text": [
      "Recursive\n",
      "108\n",
      "CPU times: user 10.8 s, sys: 87 ms, total: 10.9 s\n",
      "Wall time: 11.2 s\n",
      "\n",
      "Dynamic Programming\n",
      "108\n",
      "CPU times: user 2.1 ms, sys: 27 µs, total: 2.12 ms\n",
      "Wall time: 2.14 ms\n"
     ]
    }
   ],
   "source": [
    "from random import randint\n",
    "M2 = 100\n",
    "n2 = 23\n",
    "m2 = [randint(1, 10) for i in range(n2)]\n",
    "v2 = [randint(1, 10) for i in range(n2)]\n",
    "print(\"Recursive\")\n",
    "%time print(knapsack_recursive(M2, n2, m2, v2))\n",
    "print()\n",
    "print(\"Dynamic Programming\")\n",
    "%time print(knapsack(M2, n2, m2, v2, False))"
   ]
  },
  {
   "cell_type": "markdown",
   "metadata": {
    "collapsed": true
   },
   "source": [
    "## Bonus: Subset Sum Problem\n",
    "Given a set of (positive in this case) numbers and a target sum S, is there a non-empty subset with sum of items equal to S.\n",
    "\n",
    "Can be solved a special case of 0-1 Knapsack with m = v."
   ]
  },
  {
   "cell_type": "code",
   "execution_count": 6,
   "metadata": {
    "collapsed": false
   },
   "outputs": [
    {
     "name": "stdout",
     "output_type": "stream",
     "text": [
      "[10, 4, 9, 4, 3]\n",
      "20 True\n"
     ]
    }
   ],
   "source": [
    "M3 = 20\n",
    "n3 = 5\n",
    "m3 = v3 = [randint(1, 10) for i in range(n3)]\n",
    "print(m3)\n",
    "V = knapsack(M3, n3, m3, v3)\n",
    "print(V, V==M3)"
   ]
  },
  {
   "cell_type": "markdown",
   "metadata": {},
   "source": [
    "## Questions?\n",
    "P.S. VuMedi is hiring!"
   ]
  }
 ],
 "metadata": {
  "kernelspec": {
   "display_name": "Python 3",
   "language": "python",
   "name": "python3"
  },
  "language_info": {
   "codemirror_mode": {
    "name": "ipython",
    "version": 3
   },
   "file_extension": ".py",
   "mimetype": "text/x-python",
   "name": "python",
   "nbconvert_exporter": "python",
   "pygments_lexer": "ipython3",
   "version": "3.5.2"
  }
 },
 "nbformat": 4,
 "nbformat_minor": 1
}
